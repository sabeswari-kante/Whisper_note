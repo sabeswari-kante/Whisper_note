{
  "nbformat": 4,
  "nbformat_minor": 0,
  "metadata": {
    "colab": {
      "provenance": []
    },
    "kernelspec": {
      "name": "python3",
      "display_name": "Python 3"
    },
    "language_info": {
      "name": "python"
    }
  },
  "cells": [
    {
      "cell_type": "markdown",
      "source": [
        "# Whisper OpenAI model"
      ],
      "metadata": {
        "id": "_CrBdfeDYYrZ"
      }
    },
    {
      "cell_type": "code",
      "execution_count": null,
      "metadata": {
        "id": "yA2Ie9V0W64y"
      },
      "outputs": [],
      "source": [
        "!pip install openai"
      ]
    },
    {
      "cell_type": "code",
      "source": [
        "from openai import OpenAI\n",
        "import IPython\n",
        "client = OpenAI(api_key= '')\n",
        "import pprint"
      ],
      "metadata": {
        "id": "9EFkd5poXIBB"
      },
      "execution_count": 5,
      "outputs": []
    },
    {
      "cell_type": "code",
      "source": [
        "IPython.display.Audio('file_name.mp3')"
      ],
      "metadata": {
        "id": "psv6Ago1YDjf"
      },
      "execution_count": null,
      "outputs": []
    },
    {
      "cell_type": "code",
      "source": [
        "with open('file_name.mp3','rb') as audio_file:\n",
        "  transcript = client.audio.transcriptions.create(\n",
        "    model=\"whisper-1\",\n",
        "    file=audio_file,\n",
        "    language=\"en\"\n",
        "  )\n",
        "\n",
        "print(transcript)"
      ],
      "metadata": {
        "id": "cPG_4NwCXUZF"
      },
      "execution_count": null,
      "outputs": []
    },
    {
      "cell_type": "code",
      "source": [
        "# chat_completion = client.chat.completions.create(\n",
        "#   model=\"gpt-3.5-turbo\",\n",
        "#   messages=[\n",
        "#     {\"role\": \"user\", \"content\": transcript.text}\n",
        "#   ]\n",
        "# )\n",
        "# response_message = chat_completion.choices[0].message.content\n",
        "# print(response_message)\n"
      ],
      "metadata": {
        "id": "E7ia_DRWYTXu"
      },
      "execution_count": null,
      "outputs": []
    },
    {
      "cell_type": "code",
      "source": [],
      "metadata": {
        "id": "DpFRpjsAYvWm"
      },
      "execution_count": null,
      "outputs": []
    }
  ]
}